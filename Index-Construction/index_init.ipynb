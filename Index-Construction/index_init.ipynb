{
 "cells": [
  {
   "cell_type": "markdown",
   "metadata": {
    "id": "hWgiQS0zkWJ5"
   },
   "source": [
    "***Important*** DO NOT CLEAR THE OUTPUT OF THIS NOTEBOOK AFTER EXECUTION!!!"
   ]
  },
  {
   "cell_type": "code",
   "execution_count": 1,
   "metadata": {
    "id": "c0ccf76b",
    "nbgrader": {
     "grade": false,
     "grade_id": "cell-Worker_Count",
     "locked": true,
     "schema_version": 3,
     "solution": false,
     "task": false
    },
    "outputId": "cf88b954-f39a-412a-d87e-660833e735b6"
   },
   "outputs": [
    {
     "name": "stdout",
     "output_type": "stream",
     "text": [
      "NAME          PLATFORM  WORKER_COUNT  PREEMPTIBLE_WORKER_COUNT  STATUS   ZONE           SCHEDULED_DELETE\r\n",
      "cluster-1599  GCE       4                                       RUNNING  us-central1-a\r\n"
     ]
    }
   ],
   "source": [
    "# if the following command generates an error, you probably didn't enable \n",
    "# the cluster security option \"Allow API access to all Google Cloud services\"\n",
    "# under Manage Security → Project Access when setting up the cluster\n",
    "!gcloud dataproc clusters list --region us-central1"
   ]
  },
  {
   "cell_type": "markdown",
   "metadata": {
    "id": "01ec9fd3"
   },
   "source": [
    "# Imports & Setup"
   ]
  },
  {
   "cell_type": "code",
   "execution_count": 2,
   "metadata": {
    "id": "32b3ec57",
    "nbgrader": {
     "grade": false,
     "grade_id": "cell-Setup",
     "locked": true,
     "schema_version": 3,
     "solution": false,
     "task": false
    },
    "outputId": "fc0e315d-21e9-411d-d69c-5b97e4e5d629"
   },
   "outputs": [
    {
     "name": "stdout",
     "output_type": "stream",
     "text": [
      "\u001b[33mWARNING: Running pip as the 'root' user can result in broken permissions and conflicting behaviour with the system package manager. It is recommended to use a virtual environment instead: https://pip.pypa.io/warnings/venv\u001b[0m\u001b[33m\n",
      "\u001b[0m\u001b[33mWARNING: Running pip as the 'root' user can result in broken permissions and conflicting behaviour with the system package manager. It is recommended to use a virtual environment instead: https://pip.pypa.io/warnings/venv\u001b[0m\u001b[33m\n",
      "\u001b[0m"
     ]
    }
   ],
   "source": [
    "!pip install -q google-cloud-storage==1.43.0\n",
    "!pip install -q graphframes"
   ]
  },
  {
   "cell_type": "code",
   "execution_count": 3,
   "metadata": {
    "id": "5609143b",
    "nbgrader": {
     "grade": false,
     "grade_id": "cell-Imports",
     "locked": true,
     "schema_version": 3,
     "solution": false,
     "task": false
    },
    "outputId": "a24aa24b-aa75-4823-83ca-1d7deef0f0de"
   },
   "outputs": [
    {
     "name": "stderr",
     "output_type": "stream",
     "text": [
      "[nltk_data] Downloading package stopwords to /root/nltk_data...\n",
      "[nltk_data]   Package stopwords is already up-to-date!\n"
     ]
    },
    {
     "data": {
      "text/plain": [
       "True"
      ]
     },
     "execution_count": 3,
     "metadata": {},
     "output_type": "execute_result"
    }
   ],
   "source": [
    "import pyspark\n",
    "import sys\n",
    "from collections import Counter, OrderedDict, defaultdict\n",
    "import itertools\n",
    "from itertools import islice, count, groupby\n",
    "import pandas as pd\n",
    "import os\n",
    "import re\n",
    "from operator import itemgetter\n",
    "import nltk\n",
    "from nltk.stem import PorterStemmer\n",
    "from nltk.corpus import stopwords\n",
    "from time import time\n",
    "from pathlib import Path\n",
    "import pickle\n",
    "import pandas as pd\n",
    "from google.cloud import storage\n",
    "import json\n",
    "\n",
    "import hashlib\n",
    "def _hash(s):\n",
    "    return hashlib.blake2b(bytes(s, encoding='utf8'), digest_size=5).hexdigest()\n",
    "\n",
    "nltk.download('stopwords')"
   ]
  },
  {
   "cell_type": "code",
   "execution_count": 4,
   "metadata": {
    "id": "b10cc999",
    "nbgrader": {
     "grade": false,
     "grade_id": "cell-jar",
     "locked": true,
     "schema_version": 3,
     "solution": false,
     "task": false
    },
    "outputId": "8f93a7ec-71e0-49c1-fc81-9af385849a90"
   },
   "outputs": [
    {
     "name": "stdout",
     "output_type": "stream",
     "text": [
      "-rw-r--r-- 1 root root 247882 Jan 12 21:20 /usr/lib/spark/jars/graphframes-0.8.2-spark3.1-s_2.12.jar\r\n"
     ]
    }
   ],
   "source": [
    "# if nothing prints here you forgot to include the initialization script when starting the cluster\n",
    "!ls -l /usr/lib/spark/jars/graph*"
   ]
  },
  {
   "cell_type": "code",
   "execution_count": 5,
   "metadata": {
    "id": "d3f86f11",
    "nbgrader": {
     "grade": false,
     "grade_id": "cell-pyspark-import",
     "locked": true,
     "schema_version": 3,
     "solution": false,
     "task": false
    }
   },
   "outputs": [],
   "source": [
    "from pyspark.sql import *\n",
    "from pyspark.sql.functions import *\n",
    "from pyspark import SparkContext, SparkConf, SparkFiles\n",
    "from pyspark.sql import SQLContext\n",
    "from graphframes import *"
   ]
  },
  {
   "cell_type": "code",
   "execution_count": 6,
   "metadata": {
    "id": "5be6dc2a",
    "nbgrader": {
     "grade": false,
     "grade_id": "cell-spark-version",
     "locked": true,
     "schema_version": 3,
     "solution": false,
     "task": false
    },
    "outputId": "07b4e22b-a252-42fb-fe46-d9050e4e7ca8",
    "scrolled": true
   },
   "outputs": [
    {
     "data": {
      "text/html": [
       "\n",
       "            <div>\n",
       "                <p><b>SparkSession - hive</b></p>\n",
       "                \n",
       "        <div>\n",
       "            <p><b>SparkContext</b></p>\n",
       "\n",
       "            <p><a href=\"http://cluster-1599-m.us-central1-a.c.wiki-project-ir.internal:46257\">Spark UI</a></p>\n",
       "\n",
       "            <dl>\n",
       "              <dt>Version</dt>\n",
       "                <dd><code>v3.1.3</code></dd>\n",
       "              <dt>Master</dt>\n",
       "                <dd><code>yarn</code></dd>\n",
       "              <dt>AppName</dt>\n",
       "                <dd><code>PySparkShell</code></dd>\n",
       "            </dl>\n",
       "        </div>\n",
       "        \n",
       "            </div>\n",
       "        "
      ],
      "text/plain": [
       "<pyspark.sql.session.SparkSession at 0x7f98310f9cd0>"
      ]
     },
     "execution_count": 6,
     "metadata": {},
     "output_type": "execute_result"
    }
   ],
   "source": [
    "spark"
   ]
  },
  {
   "cell_type": "code",
   "execution_count": 7,
   "metadata": {
    "id": "7adc1bf5",
    "nbgrader": {
     "grade": false,
     "grade_id": "cell-bucket_name",
     "locked": false,
     "schema_version": 3,
     "solution": true,
     "task": false
    }
   },
   "outputs": [],
   "source": [
    "# Put your bucket name below and make sure you can access it without an error\n",
    "bucket_name = 'wiki-project-unique-bucket' \n",
    "full_path = f\"gs://{bucket_name}/\"\n",
    "paths=[]\n",
    "\n",
    "client = storage.Client()\n",
    "blobs = client.list_blobs(bucket_name)\n",
    "for b in blobs:\n",
    "    if b.name.startswith(\"multi\"):\n",
    "        paths.append(full_path+b.name)"
   ]
  },
  {
   "cell_type": "markdown",
   "metadata": {
    "id": "13ZX4ervQkku"
   },
   "source": [
    "***GCP setup is complete!*** If you got here without any errors you've earned 10 out of the 35 points of this part."
   ]
  },
  {
   "cell_type": "markdown",
   "metadata": {
    "id": "c0b0f215"
   },
   "source": [
    "# Building an inverted index"
   ]
  },
  {
   "cell_type": "markdown",
   "metadata": {
    "id": "02f81c72"
   },
   "source": [
    "Here, we read the entire corpus to an rdd, directly from Google Storage Bucket and use your code from Colab to construct an inverted index."
   ]
  },
  {
   "cell_type": "code",
   "execution_count": 8,
   "metadata": {
    "id": "b1af29c9",
    "scrolled": false
   },
   "outputs": [
    {
     "name": "stderr",
     "output_type": "stream",
     "text": [
      "                                                                                \r"
     ]
    }
   ],
   "source": [
    "parquetFile = spark.read.parquet(*paths)"
   ]
  },
  {
   "cell_type": "markdown",
   "metadata": {
    "id": "f6375562"
   },
   "source": [
    "We will count the number of pages to make sure we are looking at the entire corpus. The number of pages should be more than 6M"
   ]
  },
  {
   "cell_type": "code",
   "execution_count": 9,
   "metadata": {
    "id": "d89a7a9a"
   },
   "outputs": [
    {
     "name": "stderr",
     "output_type": "stream",
     "text": [
      "                                                                                \r"
     ]
    },
    {
     "data": {
      "text/plain": [
       "6348910"
      ]
     },
     "execution_count": 9,
     "metadata": {},
     "output_type": "execute_result"
    }
   ],
   "source": [
    "# Count number of wiki pages\n",
    "parquetFile.count()"
   ]
  },
  {
   "cell_type": "markdown",
   "metadata": {
    "id": "gaaIoFViXyTg"
   },
   "source": [
    "Let's import the inverted index module. Note that you need to use the staff-provided version called `inverted_index_class.py`, which contains helper functions to writing and reading the posting files similar to the Colab version, but with writing done to a Google Cloud Storage bucket."
   ]
  },
  {
   "cell_type": "code",
   "execution_count": 10,
   "metadata": {
    "id": "04371c88",
    "outputId": "327fe81b-80f4-4b3a-8894-e74720d92e35"
   },
   "outputs": [
    {
     "name": "stdout",
     "output_type": "stream",
     "text": [
      "inverted_index_gcp.py\r\n"
     ]
    }
   ],
   "source": [
    "# if nothing prints here you forgot to upload the file inverted_index_gcp.py to the home dir\n",
    "%cd -q /home/dataproc\n",
    "!ls inverted_index_gcp.py"
   ]
  },
  {
   "cell_type": "code",
   "execution_count": 11,
   "metadata": {
    "id": "2d3285d8",
    "scrolled": true
   },
   "outputs": [],
   "source": [
    "# adding our python module to the cluster\n",
    "sc.addFile(\"/home/dataproc/inverted_index_gcp.py\")\n",
    "sys.path.insert(0,SparkFiles.getRootDirectory())"
   ]
  },
  {
   "cell_type": "code",
   "execution_count": 12,
   "metadata": {
    "id": "2477a5b9"
   },
   "outputs": [],
   "source": [
    "from inverted_index_gcp import InvertedIndex"
   ]
  },
  {
   "cell_type": "markdown",
   "metadata": {
    "id": "72bcf46a"
   },
   "source": [
    "Using the implementation of `word_count`, `reduce_word_counts`, `calculate_df`, and `partition_postings_and_write` functions from Colab to build an inverted index for all of English Wikipedia in under 2 hours."
   ]
  },
  {
   "cell_type": "markdown",
   "metadata": {
    "id": "72bcf46a"
   },
   "source": [
    "**HELPING METHODS & INIT**"
   ]
  },
  {
   "cell_type": "code",
   "execution_count": 13,
   "metadata": {
    "id": "a4b6ee29",
    "nbgrader": {
     "grade": false,
     "grade_id": "cell-token2bucket",
     "locked": false,
     "schema_version": 3,
     "solution": true,
     "task": false
    }
   },
   "outputs": [],
   "source": [
    "ps = PorterStemmer()\n",
    "english_stopwords = frozenset(stopwords.words('english'))\n",
    "corpus_stopwords = [\"category\", \"references\", \"also\", \"external\", \"links\", \n",
    "                    \"may\", \"first\", \"see\", \"history\", \"people\", \"one\", \"two\", \n",
    "                    \"part\", \"thumb\", \"including\", \"second\", \"following\", \n",
    "                    \"many\", \"however\", \"would\", \"became\"]\n",
    "\n",
    "all_stopwords = english_stopwords.union(corpus_stopwords)\n",
    "RE_WORD = re.compile(r\"\"\"[\\#\\@\\w](['\\-]?\\w){2,24}\"\"\", re.UNICODE)\n",
    "\n",
    "NUM_BUCKETS = 124\n",
    "def token2bucket_id(token):\n",
    "    return int(_hash(token),16) % NUM_BUCKETS\n",
    "def tokenize(text):\n",
    "    tokens = [token.group() for token in RE_WORD.finditer(text.lower())]\n",
    "    tokens = [token for token in tokens if token not in all_stopwords]\n",
    "    return tokens\n",
    "    \n",
    "def word_count(text, id, stem=False):\n",
    "    tokens = tokenize(text)\n",
    "    if stem:\n",
    "        tokens = [ps.stem(token)for token in tokens]\n",
    "    counter = {}\n",
    "    for word in tokens:\n",
    "        if word not in all_stopwords:\n",
    "            if word not in counter:\n",
    "                counter[word] = 0\n",
    "            counter[word] += 1\n",
    "    lst = []\n",
    "    for elem in counter.keys():\n",
    "        lst.append((elem, (id, counter[elem])))\n",
    "    return lst\n",
    "\n",
    "def reduce_word_counts(unsorted_pl):\n",
    "    return sorted(unsorted_pl)\n",
    "\n",
    "def calculate_df(postings):\n",
    "    return postings.mapValues(lambda x: len(x))\n",
    "\n",
    "def partition_postings_and_write(postings, base_dir):\n",
    "    rdd = postings.groupBy(lambda x: token2bucket_id(x[0]))\n",
    "    return(rdd.map(lambda x: InvertedIndex.write_a_posting_list(x, bucket_name, base_dir)))\n",
    "\n",
    "def calculate_docs_lengths(postings_rdd):\n",
    "    return postings_rdd.flatMap(lambda x:[(curr_id,count) for curr_id,count in x[1]]).aggregateByKey(0, lambda x,y: x+y, lambda x,y: x+y)\n",
    "\n",
    "def calculate_tf(postings_rdd):\n",
    "    return postings_rdd.flatMap(lambda x: [(x[0],len(x[1]))]).aggregateByKey(0, lambda x,y: x+y, lambda x,y: x+y)"
   ]
  },
  {
   "cell_type": "markdown",
   "metadata": {},
   "source": [
    "**TITLE INIT**"
   ]
  },
  {
   "cell_type": "code",
   "execution_count": 14,
   "metadata": {},
   "outputs": [
    {
     "name": "stderr",
     "output_type": "stream",
     "text": [
      "                                                                                \r"
     ]
    },
    {
     "name": "stdout",
     "output_type": "stream",
     "text": [
      "Copying file://titles.json [Content-Type=application/json]...\n",
      "==> NOTE: You are uploading one or more large file(s), which would run          \n",
      "significantly faster if you enable parallel composite uploads. This\n",
      "feature can be enabled by editing the\n",
      "\"parallel_composite_upload_threshold\" value in your .boto\n",
      "configuration file. However, note that if you do this large files will\n",
      "be uploaded as `composite objects\n",
      "<https://cloud.google.com/storage/docs/composite-objects>`_,which\n",
      "means that any user who downloads such objects will need to have a\n",
      "compiled crcmod installed (see \"gsutil help crcmod\"). This is because\n",
      "without a compiled crcmod, computing checksums on composite objects is\n",
      "so slow that gsutil disables downloads of composite objects.\n",
      "\n",
      "- [1 files][218.2 MiB/218.2 MiB]                                                \n",
      "Operation completed over 1 objects/218.2 MiB.                                    \n"
     ]
    }
   ],
   "source": [
    "docs_titles_pairs = parquetFile.select(\"id\",\"title\").rdd\n",
    "# Title JSON\n",
    "docs_titles_pairs_dict = docs_titles_pairs.collectAsMap()\n",
    "with open(\"titles.json\",\"w\") as titles_json:\n",
    "    json.dump(docs_titles_pairs_dict, titles_json)\n",
    "\n",
    "titles_src = \"titles.json\"\n",
    "titles_dst = f\"gs://{bucket_name}/titles/{titles_src}\"\n",
    "!gsutil cp $titles_src $titles_dst"
   ]
  },
  {
   "cell_type": "code",
   "execution_count": 15,
   "metadata": {},
   "outputs": [
    {
     "name": "stderr",
     "output_type": "stream",
     "text": [
      "                                                                                \r"
     ]
    }
   ],
   "source": [
    "# Title index\n",
    "titles_counts = docs_titles_pairs.flatMap(lambda x: word_count(x[1],x[0]))\n",
    "titles_postings = titles_counts.groupByKey().mapValues(reduce_word_counts)\n",
    "titles_df_dict = calculate_df(titles_postings).collectAsMap()\n",
    "term_total_title = calculate_tf(titles_postings)\n",
    "title_dl = calculate_docs_lengths(titles_postings)\n",
    "#TODO check partition_postings_and_write\n",
    "_ = partition_postings_and_write(titles_postings, \"titles\").collect()"
   ]
  },
  {
   "cell_type": "code",
   "execution_count": null,
   "metadata": {},
   "outputs": [],
   "source": [
    "# collect all posting lists locations into one super-set\n",
    "titles_posting_locs = defaultdict(list)\n",
    "for blob in client.list_blobs(bucket_name, prefix='titles'):\n",
    "  if not blob.name.endswith(\"pickle\"):\n",
    "    continue\n",
    "  with blob.open(\"rb\") as f:\n",
    "    posting_locs = pickle.load(f)\n",
    "    for k, v in posting_locs.items():\n",
    "      titles_posting_locs[k].extend(v)"
   ]
  },
  {
   "cell_type": "markdown",
   "metadata": {
    "id": "VhAV0A6dNZWY"
   },
   "source": [
    "Putting it all together"
   ]
  },
  {
   "cell_type": "code",
   "execution_count": null,
   "metadata": {},
   "outputs": [],
   "source": [
    "# Create inverted index instance\n",
    "inverted = InvertedIndex()\n",
    "# Adding the posting locations dictionary to the inverted index\n",
    "inverted.posting_locs = titles_posting_locs\n",
    "inverted.DL = title_dl.collectAsMap()\n",
    "# Add the token - df dictionary to the inverted index\n",
    "inverted.df = titles_df_dict\n",
    "inverted.term_total = term_total_title.collectAsMap()\n",
    "# inverted.term_total = doc_text_total_terms\n",
    "# write the global stats out\n",
    "inverted.write_index('.', 'title_index')\n",
    "# upload to gs\n",
    "index_src = \"title_index.pkl\"\n",
    "index_dst = f'gs://{bucket_name}/titles/{index_src}'\n",
    "!gsutil cp $index_src $index_dst"
   ]
  },
  {
   "cell_type": "markdown",
   "metadata": {},
   "source": [
    "**BODY INIT**"
   ]
  },
  {
   "cell_type": "code",
   "execution_count": null,
   "metadata": {
    "id": "0b5d7296",
    "nbgrader": {
     "grade": false,
     "grade_id": "cell-index_construction",
     "locked": false,
     "schema_version": 3,
     "solution": true,
     "task": false
    }
   },
   "outputs": [],
   "source": [
    "doc_text_pairs = parquetFile.select(\"text\", \"id\").rdd\n",
    "# word counts map\n",
    "word_counts = doc_text_pairs.flatMap(lambda x: word_count(x[0], x[1]))\n",
    "postings = word_counts.groupByKey().mapValues(reduce_word_counts)\n",
    "# filtering postings and calculate df\n",
    "postings_filtered = postings.filter(lambda x: len(x[1])>50)\n",
    "w2df = calculate_df(postings_filtered)\n",
    "w2df_dict = w2df.collectAsMap()\n",
    "term_total_body = calculate_tf(postings_filtered)\n",
    "body_dl = calculate_docs_lengths(postings_filtered)\n",
    "# partition posting lists and write out\n",
    "# calculate total terms\n",
    "_ = partition_postings_and_write(postings_filtered, \"body\").collect()"
   ]
  },
  {
   "cell_type": "code",
   "execution_count": null,
   "metadata": {
    "id": "Opl6eRNLM5Xv",
    "nbgrader": {
     "grade": true,
     "grade_id": "collect-posting",
     "locked": true,
     "points": 0,
     "schema_version": 3,
     "solution": false,
     "task": false
    }
   },
   "outputs": [],
   "source": [
    "# collect all posting lists locations into one super-set\n",
    "super_posting_locs = defaultdict(list)\n",
    "for blob in client.list_blobs(bucket_name, prefix='body'):\n",
    "  if not blob.name.endswith(\"pickle\"):\n",
    "    continue\n",
    "  with blob.open(\"rb\") as f:\n",
    "    posting_locs = pickle.load(f)\n",
    "    for k, v in posting_locs.items():\n",
    "      super_posting_locs[k].extend(v)"
   ]
  },
  {
   "cell_type": "markdown",
   "metadata": {
    "id": "VhAV0A6dNZWY"
   },
   "source": [
    "Putting it all together"
   ]
  },
  {
   "cell_type": "code",
   "execution_count": null,
   "metadata": {
    "id": "54vqT_0WNc3w"
   },
   "outputs": [],
   "source": [
    "# Create inverted index instance\n",
    "inverted = InvertedIndex()\n",
    "# Adding the posting locations dictionary to the inverted index\n",
    "inverted.posting_locs = super_posting_locs\n",
    "inverted.DL = body_dl.collectAsMap()\n",
    "# Add the token - df dictionary to the inverted index\n",
    "inverted.df = w2df_dict\n",
    "inverted.term_total = term_total_body.collectAsMap()\n",
    "# write the global stats out\n",
    "inverted.write_index('.', 'body_index')\n",
    "# upload to gs\n",
    "index_src = \"body_index.pkl\"\n",
    "index_dst = f'gs://{bucket_name}/body/{index_src}'\n",
    "!gsutil cp $index_src $index_dst"
   ]
  },
  {
   "cell_type": "code",
   "execution_count": null,
   "metadata": {
    "id": "msogGbJ3c8JF",
    "nbgrader": {
     "grade": false,
     "grade_id": "cell-index_dst_size",
     "locked": true,
     "schema_version": 3,
     "solution": false,
     "task": false
    }
   },
   "outputs": [],
   "source": [
    "!gsutil ls -lh $index_dst"
   ]
  },
  {
   "cell_type": "markdown",
   "metadata": {
    "id": "fc0667a9",
    "nbgrader": {
     "grade": false,
     "grade_id": "cell-2a6d655c112e79c5",
     "locked": true,
     "schema_version": 3,
     "solution": false,
     "task": false
    }
   },
   "source": [
    "**PageRank**"
   ]
  },
  {
   "cell_type": "markdown",
   "metadata": {
    "id": "fdd1bdca",
    "nbgrader": {
     "grade": false,
     "grade_id": "cell-2fee4bc8d83c1e2a",
     "locked": true,
     "schema_version": 3,
     "solution": false,
     "task": false
    }
   },
   "source": [
    "Computing PageRank for the entire English Wikipedia."
   ]
  },
  {
   "cell_type": "code",
   "execution_count": null,
   "metadata": {
    "id": "yVjnTvQsegc-"
   },
   "outputs": [],
   "source": [
    "# Put your `generate_graph` function here\n",
    "def generate_graph(pages):\n",
    "    vertices = pages.map(lambda x: [(x[0], )] + [(y[0], ) for y in x[1]]).flatMap(lambda l: l).distinct()\n",
    "    edges = pages.map(lambda y: [(y[0], z[0]) for z in y[1]]).flatMap(lambda l: l).distinct()\n",
    "    return edges, vertices"
   ]
  },
  {
   "cell_type": "code",
   "execution_count": null,
   "metadata": {
    "id": "db005700",
    "nbgrader": {
     "grade": false,
     "grade_id": "cell-PageRank",
     "locked": false,
     "schema_version": 3,
     "solution": true,
     "task": false
    }
   },
   "outputs": [],
   "source": [
    "pages_links = spark.read.parquet(*paths).select(\"id\", \"anchor_text\").rdd\n",
    "# construct the graph \n",
    "edges, vertices = generate_graph(pages_links)\n",
    "# compute PageRank\n",
    "edgesDF = edges.toDF(['src', 'dst']).repartition(124, 'src')\n",
    "verticesDF = vertices.toDF(['id']).repartition(124, 'id')\n",
    "g = GraphFrame(verticesDF, edgesDF)\n",
    "pr_results = g.pageRank(resetProbability=0.15, maxIter=6)\n",
    "pr = pr_results.vertices.select(\"id\", \"pagerank\")\n",
    "pr = pr.sort(col('pagerank').desc())"
   ]
  },
  {
   "cell_type": "code",
   "execution_count": null,
   "metadata": {},
   "outputs": [],
   "source": [
    "pr_as_dict = {}\n",
    "for item in pr.toPandas().iterrows():\n",
    "    row = item[1]\n",
    "    pr_as_dict[int(row[0])] = row[1]"
   ]
  },
  {
   "cell_type": "code",
   "execution_count": null,
   "metadata": {},
   "outputs": [],
   "source": [
    "with open(\"pr.json\", \"w\") as pr:\n",
    "    json.dump(pr_as_dict, pr)"
   ]
  },
  {
   "cell_type": "code",
   "execution_count": null,
   "metadata": {},
   "outputs": [],
   "source": [
    "pr_src = \"pr.json\"\n",
    "pr_dst = f'gs://{bucket_name}/pr/{pr_src}'\n",
    "!gsutil cp $pr_src $pr_dst"
   ]
  },
  {
   "cell_type": "markdown",
   "metadata": {},
   "source": [
    "****Page Views****"
   ]
  },
  {
   "cell_type": "code",
   "execution_count": null,
   "metadata": {},
   "outputs": [],
   "source": [
    "pv_path = 'https://dumps.wikimedia.org/other/pageview_complete/monthly/2021/2021-08/pageviews-202108-user.bz2'\n",
    "p = Path(pv_path) \n",
    "pv_name = p.name\n",
    "pv_temp = f'{p.stem}-4dedup.txt'\n",
    "pv_clean = f'{p.stem}.pkl'\n",
    "!wget -N $pv_path\n",
    "!bzcat $pv_name | grep \"^en\\.wikipedia\" | cut -d' ' -f3,5 | grep -P \"^\\d+\\s\\d+$\" > $pv_temp\n",
    "wid2pv = Counter()\n",
    "with open(pv_temp, 'rt') as f:\n",
    "    for line in f:\n",
    "        parts = line.split(' ')\n",
    "        wid2pv.update({int(parts[0]): int(parts[1])})"
   ]
  },
  {
   "cell_type": "code",
   "execution_count": null,
   "metadata": {},
   "outputs": [],
   "source": [
    "with open('pv.json', 'w') as pv:\n",
    "     json.dump(wid2pv, pv)\n",
    "\n",
    "pv_src = \"pv.json\"\n",
    "pv_dst = f'gs://{bucket_name}/pv/{pv_src}'\n",
    "!gsutil cp $pv_src $pv_dst"
   ]
  },
  {
   "cell_type": "markdown",
   "metadata": {},
   "source": [
    "**ANCHOR INIT**"
   ]
  },
  {
   "cell_type": "markdown",
   "metadata": {},
   "source": [
    "Help Function for anchor"
   ]
  },
  {
   "cell_type": "code",
   "execution_count": 1,
   "metadata": {},
   "outputs": [],
   "source": [
    "def tokenize_anchor_text(anchors):\n",
    "    anchor_text = [token[1] for token in anchors]\n",
    "    text = \" \".join(anchor_text)\n",
    "    return text\n",
    "\n",
    "def word_count_anchor(anchor_id,anchors_text):\n",
    "    return word_count(tokenize_anchor_text(anchors_text), anchor_id)\n",
    "    "
   ]
  },
  {
   "cell_type": "code",
   "execution_count": 2,
   "metadata": {},
   "outputs": [
    {
     "ename": "NameError",
     "evalue": "name 'calculate_df' is not defined",
     "output_type": "error",
     "traceback": [
      "\u001b[0;31m---------------------------------------------------------------------------\u001b[0m",
      "\u001b[0;31mNameError\u001b[0m                                 Traceback (most recent call last)",
      "Cell \u001b[0;32mIn[2], line 6\u001b[0m\n\u001b[1;32m      1\u001b[0m \u001b[38;5;66;03m# docs_anchors_pairs = pages_links\u001b[39;00m\n\u001b[1;32m      2\u001b[0m \u001b[38;5;66;03m# w_c_anchor = docs_anchors_pairs.flatMap(lambda x: word_count_anchor(x[0], x[1]))\u001b[39;00m\n\u001b[1;32m      3\u001b[0m \u001b[38;5;66;03m# anchor_postings = w_c_anchor.groupByKey().mapValues(reduce_word_counts)\u001b[39;00m\n\u001b[1;32m      4\u001b[0m \u001b[38;5;66;03m# anchor_postings.take(1)\u001b[39;00m\n\u001b[1;32m      5\u001b[0m \u001b[38;5;66;03m# filtering postings and calculate df\u001b[39;00m\n\u001b[0;32m----> 6\u001b[0m w2df \u001b[38;5;241m=\u001b[39m \u001b[43mcalculate_df\u001b[49m(anchor_postings)\n\u001b[1;32m      7\u001b[0m w2df_dict \u001b[38;5;241m=\u001b[39m w2df\u001b[38;5;241m.\u001b[39mcollectAsMap()\n\u001b[1;32m      8\u001b[0m term_total_anchor \u001b[38;5;241m=\u001b[39m calculate_tf(anchor_postings)\n",
      "\u001b[0;31mNameError\u001b[0m: name 'calculate_df' is not defined"
     ]
    }
   ],
   "source": [
    "# docs_anchors_pairs = pages_links\n",
    "# w_c_anchor = docs_anchors_pairs.flatMap(lambda x: word_count_anchor(x[0], x[1]))\n",
    "# anchor_postings = w_c_anchor.groupByKey().mapValues(reduce_word_counts)\n",
    "# anchor_postings.take(1)\n",
    "# filtering postings and calculate df\n",
    "w2df = calculate_df(anchor_postings)\n",
    "w2df_dict = w2df.collectAsMap()\n",
    "term_total_anchor = calculate_tf(anchor_postings)\n",
    "anchor_dl = calculate_docs_lengths(anchor_postings)\n",
    "# partition posting lists and write out\n",
    "# calculate total terms\n",
    "_ = partition_postings_and_write(anchor_postings, \"anchor\").collect()"
   ]
  },
  {
   "cell_type": "code",
   "execution_count": null,
   "metadata": {},
   "outputs": [],
   "source": [
    "# collect all posting lists locations into one super-set\n",
    "anchor_posting_locs = defaultdict(list)\n",
    "for blob in client.list_blobs(bucket_name, prefix='anchor'):\n",
    "  if not blob.name.endswith(\"pickle\"):\n",
    "    continue\n",
    "  with blob.open(\"rb\") as f:\n",
    "    posting_locs = pickle.load(f)\n",
    "    for k, v in posting_locs.items():\n",
    "      anchor_posting_locs[k].extend(v)"
   ]
  },
  {
   "cell_type": "code",
   "execution_count": null,
   "metadata": {},
   "outputs": [],
   "source": [
    "# Create inverted index instance\n",
    "inverted = InvertedIndex()\n",
    "# Adding the posting locations dictionary to the inverted index\n",
    "inverted.posting_locs = anchor_posting_locs\n",
    "inverted.DL = anchor_dl.collectAsMap()\n",
    "# Add the token - df dictionary to the inverted index\n",
    "inverted.df = w2df_dict\n",
    "inverted.term_total = term_total_anchor.collectAsMap()\n",
    "# write the global stats out\n",
    "inverted.write_index('.', 'anchor_index')\n",
    "# upload to gs\n",
    "index_src = \"anchor_index.pkl\"\n",
    "index_dst = f'gs://{bucket_name}/anchor/{index_src}'\n",
    "!gsutil cp $index_src $index_dst"
   ]
  },
  {
   "cell_type": "code",
   "execution_count": null,
   "metadata": {},
   "outputs": [],
   "source": [
    "!gsutil ls -lh $index_dst"
   ]
  }
 ],
 "metadata": {
  "celltoolbar": "Create Assignment",
  "colab": {
   "collapsed_sections": [],
   "name": "assignment3_gcp.ipynb",
   "provenance": [],
   "toc_visible": true
  },
  "kernelspec": {
   "display_name": "Python 3",
   "language": "python",
   "name": "python3"
  },
  "language_info": {
   "codemirror_mode": {
    "name": "ipython",
    "version": 3
   },
   "file_extension": ".py",
   "mimetype": "text/x-python",
   "name": "python",
   "nbconvert_exporter": "python",
   "pygments_lexer": "ipython3",
   "version": "3.8.3"
  }
 },
 "nbformat": 4,
 "nbformat_minor": 5
}
